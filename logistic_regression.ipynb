{
 "cells": [
  {
   "cell_type": "code",
   "execution_count": 1,
   "metadata": {},
   "outputs": [],
   "source": [
    "a = 0\n",
    "a += 1\n"
   ]
  },
  {
   "cell_type": "code",
   "execution_count": 1,
   "metadata": {},
   "outputs": [
    {
     "data": {
      "text/plain": [
       "0.0"
      ]
     },
     "execution_count": 1,
     "metadata": {},
     "output_type": "execute_result"
    }
   ],
   "source": [
    "import numpy as np\n",
    "np.log(1)"
   ]
  },
  {
   "cell_type": "code",
   "execution_count": 7,
   "metadata": {},
   "outputs": [
    {
     "name": "stdout",
     "output_type": "stream",
     "text": [
      "3.0918999942669645\n",
      "7.530733547293652\n",
      "8.651583025775052\n",
      "9.007033526695263\n",
      "11.20139494235812\n",
      "5.310325434172238\n",
      "10.41478061366271\n",
      "11.329296813449748\n",
      "9.365267357151769\n",
      "6.6948917818157625\n"
     ]
    }
   ],
   "source": [
    "# generate random matrix with M rows and N columns\n",
    "M = 10\n",
    "N = 5\n",
    "A = np.random.rand(M, N)\n",
    "w = np.array([1, 2, 3, 4, 5])\n",
    "Y = np.array([1, 0, 1, 0, 1, 0, 1, 0, 1, 0])\n",
    "b = 0.5\n",
    "for i in range(M):\n",
    "    print(np.dot(A[i], w))"
   ]
  },
  {
   "cell_type": "code",
   "execution_count": 6,
   "metadata": {},
   "outputs": [
    {
     "data": {
      "text/plain": [
       "0.9999713922503698"
      ]
     },
     "execution_count": 6,
     "metadata": {},
     "output_type": "execute_result"
    }
   ],
   "source": [
    "def sigmoid(z):\n",
    "    return 1 / (1 + np.exp(-z))\n",
    "\n",
    "for i in range(M):\n",
    "    z_wb = 0\n",
    "    for j in range(N):\n",
    "        z_wb_ij = A[i, j] * w[j]\n",
    "        z_wb += z_wb_ij \n",
    "    z_wb += b\n",
    "\n",
    "    f_wb = sigmoid(z_wb)\n",
    "    \n",
    "f_wb"
   ]
  },
  {
   "cell_type": "code",
   "execution_count": 14,
   "metadata": {},
   "outputs": [
    {
     "data": {
      "text/plain": [
       "array([1., 1., 1.])"
      ]
     },
     "execution_count": 14,
     "metadata": {},
     "output_type": "execute_result"
    }
   ],
   "source": [
    "a = np.array([1, 2, 3]) \n",
    "a += 100\n",
    "a\n",
    "# apply sigmoid to each element of the array\n",
    "sigmoid(a)\n"
   ]
  },
  {
   "cell_type": "code",
   "execution_count": 11,
   "metadata": {},
   "outputs": [
    {
     "data": {
      "text/plain": [
       "[0, 0, 1]"
      ]
     },
     "execution_count": 11,
     "metadata": {},
     "output_type": "execute_result"
    }
   ],
   "source": [
    "a.apply(lambda x: 1 if x > 2 else 0)"
   ]
  }
 ],
 "metadata": {
  "kernelspec": {
   "display_name": "Python 3",
   "language": "python",
   "name": "python3"
  },
  "language_info": {
   "codemirror_mode": {
    "name": "ipython",
    "version": 3
   },
   "file_extension": ".py",
   "mimetype": "text/x-python",
   "name": "python",
   "nbconvert_exporter": "python",
   "pygments_lexer": "ipython3",
   "version": "3.10.4"
  }
 },
 "nbformat": 4,
 "nbformat_minor": 2
}
